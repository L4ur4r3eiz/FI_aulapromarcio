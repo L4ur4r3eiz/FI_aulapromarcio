{
  "nbformat": 4,
  "nbformat_minor": 0,
  "metadata": {
    "colab": {
      "provenance": [],
      "authorship_tag": "ABX9TyOLlPt9gkafsrFjcrJDeNjZ",
      "include_colab_link": true
    },
    "kernelspec": {
      "name": "python3",
      "display_name": "Python 3"
    },
    "language_info": {
      "name": "python"
    }
  },
  "cells": [
    {
      "cell_type": "markdown",
      "metadata": {
        "id": "view-in-github",
        "colab_type": "text"
      },
      "source": [
        "<a href=\"https://colab.research.google.com/github/L4ur4r3eiz/FI_aulapromarcio/blob/main/P.A%20_1C/Aula1_p_a.ipynb\" target=\"_parent\"><img src=\"https://colab.research.google.com/assets/colab-badge.svg\" alt=\"Open In Colab\"/></a>"
      ]
    },
    {
      "cell_type": "code",
      "execution_count": null,
      "metadata": {
        "colab": {
          "base_uri": "https://localhost:8080/"
        },
        "id": "a0wxvVp3mxbr",
        "outputId": "e83344c7-7fbb-4500-da7e-d68846cbb729"
      },
      "outputs": [
        {
          "output_type": "stream",
          "name": "stdout",
          "text": [
            "hello word\n"
          ]
        }
      ],
      "source": [
        "# prompt: print ( ' hello word ' )\n",
        "\n",
        "print('hello word')\n"
      ]
    },
    {
      "cell_type": "code",
      "execution_count": null,
      "metadata": {
        "colab": {
          "base_uri": "https://localhost:8080/"
        },
        "id": "T2JtUgSJnMPi",
        "outputId": "e2b419b2-4f3d-4a74-ab03-bc314488b7bc"
      },
      "outputs": [
        {
          "output_type": "stream",
          "name": "stdout",
          "text": [
            "hello word\n"
          ]
        }
      ],
      "source": [
        "oi = 'hello word'\n",
        "print(oi)"
      ]
    },
    {
      "cell_type": "code",
      "source": [],
      "metadata": {
        "id": "dxk6Cy8fngNJ"
      },
      "execution_count": null,
      "outputs": []
    },
    {
      "cell_type": "code",
      "source": [
        "a = 1.1\n",
        "l = 5\n",
        "a=l * l\n",
        "\n",
        "print('A area do quadrado é igual a ', a, 'cm2')"
      ],
      "metadata": {
        "colab": {
          "base_uri": "https://localhost:8080/"
        },
        "outputId": "24359557-9999-4c1d-86e8-57c75236b6b4",
        "id": "eMT0ufcovDP1"
      },
      "execution_count": 1,
      "outputs": [
        {
          "output_type": "stream",
          "name": "stdout",
          "text": [
            "A area do quadrado é igual a  25 cm2\n"
          ]
        }
      ]
    }
  ]
}