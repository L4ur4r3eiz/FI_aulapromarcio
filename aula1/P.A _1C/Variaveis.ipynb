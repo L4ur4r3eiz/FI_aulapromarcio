{
  "nbformat": 4,
  "nbformat_minor": 0,
  "metadata": {
    "colab": {
      "provenance": [],
      "authorship_tag": "ABX9TyNUvLmApTIxr9+XuemDRwlF",
      "include_colab_link": true
    },
    "kernelspec": {
      "name": "python3",
      "display_name": "Python 3"
    },
    "language_info": {
      "name": "python"
    }
  },
  "cells": [
    {
      "cell_type": "markdown",
      "metadata": {
        "id": "view-in-github",
        "colab_type": "text"
      },
      "source": [
        "<a href=\"https://colab.research.google.com/github/L4ur4r3eiz/FI_aulapromarcio/blob/main/aula1/P.A%20_1C/Variaveis.ipynb\" target=\"_parent\"><img src=\"https://colab.research.google.com/assets/colab-badge.svg\" alt=\"Open In Colab\"/></a>"
      ]
    },
    {
      "cell_type": "code",
      "execution_count": null,
      "metadata": {
        "colab": {
          "base_uri": "https://localhost:8080/"
        },
        "id": "eMW7qugTz3St",
        "outputId": "6886388b-2b05-4705-ce1f-f17a6141e104"
      },
      "outputs": [
        {
          "output_type": "stream",
          "name": "stdout",
          "text": [
            "o resultado é 2\n"
          ]
        }
      ],
      "source": [
        "soma = 1+1\n",
        "print(\"o resultado é\", soma)"
      ]
    },
    {
      "cell_type": "code",
      "source": [
        "soma"
      ],
      "metadata": {
        "colab": {
          "base_uri": "https://localhost:8080/"
        },
        "id": "w5557JyM03TT",
        "outputId": "357a7751-6016-411c-ef21-298e9f644b8f"
      },
      "execution_count": null,
      "outputs": [
        {
          "output_type": "execute_result",
          "data": {
            "text/plain": [
              "2"
            ]
          },
          "metadata": {},
          "execution_count": 2
        }
      ]
    },
    {
      "cell_type": "code",
      "source": [
        "soma = soma + 2\n",
        "print(\"a soma agora é\", soma)"
      ],
      "metadata": {
        "colab": {
          "base_uri": "https://localhost:8080/"
        },
        "id": "hqfFByX106Xq",
        "outputId": "1c5e61bc-d2ed-4019-f31e-7f9334f2201e"
      },
      "execution_count": null,
      "outputs": [
        {
          "output_type": "stream",
          "name": "stdout",
          "text": [
            "a soma agora é 46\n"
          ]
        }
      ]
    },
    {
      "cell_type": "code",
      "source": [
        "soma = soma -5\n",
        "print(\"A soma agora tem\", soma)"
      ],
      "metadata": {
        "colab": {
          "base_uri": "https://localhost:8080/"
        },
        "id": "yQ7c672Z13FE",
        "outputId": "52c2dc69-bc5e-4e9e-cf17-f48aa4c0dc83"
      },
      "execution_count": null,
      "outputs": [
        {
          "output_type": "stream",
          "name": "stdout",
          "text": [
            "A soma agora tem 41\n"
          ]
        }
      ]
    },
    {
      "cell_type": "code",
      "source": [
        "soma = soma +2-5*8/3\n",
        "print(\"a soma tem\", soma )"
      ],
      "metadata": {
        "colab": {
          "base_uri": "https://localhost:8080/"
        },
        "id": "FE4Yc7Ln2b1L",
        "outputId": "561d4bc2-ae7a-4834-8fd9-39f42ce1a7fd"
      },
      "execution_count": null,
      "outputs": [
        {
          "output_type": "stream",
          "name": "stdout",
          "text": [
            "a soma tem 29.666666666666664\n"
          ]
        }
      ]
    },
    {
      "cell_type": "code",
      "source": [
        "soma1 = (15*2)+10+2\n",
        "print(\"a soma tem\", soma1 )"
      ],
      "metadata": {
        "colab": {
          "base_uri": "https://localhost:8080/"
        },
        "id": "50PTJNEm356K",
        "outputId": "0cf94937-19c4-4ddf-b079-f5a3ff6e45b7"
      },
      "execution_count": 30,
      "outputs": [
        {
          "output_type": "stream",
          "name": "stdout",
          "text": [
            "a soma tem 42\n"
          ]
        }
      ]
    },
    {
      "cell_type": "code",
      "source": [
        "# calcular a area do quadrado\n",
        "##entrada\n",
        "lado1 = float(input(\"digite o lado1 do quadrado\"))\n",
        "lado2 = float(input(\"digite o lado2 do quadrado\"))\n",
        "\n",
        "##precessamento\n",
        "area = lado1 * lado2\n",
        "\n",
        "#saida\n",
        "print(\"A area do quadrado é\", area, \"cm2\")"
      ],
      "metadata": {
        "colab": {
          "base_uri": "https://localhost:8080/"
        },
        "id": "NpkQ1xhl6yzm",
        "outputId": "ca83822a-52b2-4ba4-d494-7ccdf87c27b8"
      },
      "execution_count": 33,
      "outputs": [
        {
          "output_type": "stream",
          "name": "stdout",
          "text": [
            "digite o lado1 do quadrado50\n",
            "digite o lado2 do quadrado2\n",
            "A area do quadrado é 100.0 cm2\n"
          ]
        }
      ]
    }
  ]
}